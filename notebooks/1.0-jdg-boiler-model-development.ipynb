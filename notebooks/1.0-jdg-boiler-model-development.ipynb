{
 "cells": [
  {
   "cell_type": "markdown",
   "metadata": {},
   "source": [
    "## Imports"
   ]
  },
  {
   "cell_type": "code",
   "execution_count": 2,
   "metadata": {},
   "outputs": [
    {
     "name": "stdout",
     "output_type": "stream",
     "text": [
      "The autoreload extension is already loaded. To reload it, use:\n",
      "  %reload_ext autoreload\n"
     ]
    }
   ],
   "source": [
    "%load_ext autoreload\n",
    "%autoreload 2\n",
    "# add source folders to path\n",
    "import sys,os\n",
    "SRC = '..\\\\src'\n",
    "src_folders = list(filter(lambda x: os.path.isdir(os.path.join(SRC,x)),os.listdir(SRC)))\n",
    "[sys.path.append(os.path.join(SRC,folder)) for folder in src_folders]\n",
    "\n",
    "# import custom libraries\n",
    "from preamble import *\n",
    "from helpers import save_joblib\n",
    "\n",
    "# notebook imports\n",
    "\n",
    "# custom file paths\n",
    "\n",
    "# get data files\n",
    "files_dict = walk_directory(raw_data)"
   ]
  },
  {
   "cell_type": "markdown",
   "metadata": {},
   "source": [
    "## Model outline\n",
    "- Fuel Flows\n",
    "    -   Quality, Fuel Analysis\n",
    "- Air Flows\n",
    "    - Air Splits\n",
    "    - CO, NOx\n",
    "    - Ambient Temp and Humidity\n",
    "- Soot\n",
    "    - Rate of development\n",
    "    - Accumulation\n",
    "    - Heat Transfer Effects\n",
    "- Soot Blowers\n",
    "    - Blowing Duration\n",
    "    - Frequency?\n",
    "    - Media\n",
    "    - Effect on soot (should there be some long-term perminent degradation?)\n",
    "    \n"
   ]
  },
  {
   "cell_type": "code",
   "execution_count": null,
   "metadata": {},
   "outputs": [],
   "source": [
    "class PulverizedCoalSubcriticalBoiler():\n",
    "    \n",
    "    \n",
    "    def __init__(self):\n",
    "        # stub\n",
    "        pass\n",
    "\n",
    "    def simulate_next_time_step(self):\n",
    "        return None\n",
    "    \n",
    "    def combustion_reaction():\n",
    "        return None\n"
   ]
  },
  {
   "cell_type": "markdown",
   "metadata": {},
   "source": []
  }
 ],
 "metadata": {
  "kernelspec": {
   "display_name": "SOOTBLOWER",
   "language": "python",
   "name": "python3"
  },
  "language_info": {
   "codemirror_mode": {
    "name": "ipython",
    "version": 3
   },
   "file_extension": ".py",
   "mimetype": "text/x-python",
   "name": "python",
   "nbconvert_exporter": "python",
   "pygments_lexer": "ipython3",
   "version": "3.13.5"
  },
  "orig_nbformat": 4
 },
 "nbformat": 4,
 "nbformat_minor": 2
}
